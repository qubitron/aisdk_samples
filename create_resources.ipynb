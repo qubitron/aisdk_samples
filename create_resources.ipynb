{
 "cells": [
  {
   "cell_type": "markdown",
   "metadata": {},
   "source": [
    "### Pre-Requisite: create environment install requirements-mgmt.txt\n",
    "\n",
    "Create either a conda or python virtual environment and install the management packages:\n",
    "```\n",
    "pip install -r requirements-mgmt.txt\n",
    "```\n",
    "\n",
    "**Do NOT** install these packages into a global python interpreter, always use a conda or virtual environment or you may need to re-install python at some point."
   ]
  },
  {
   "cell_type": "code",
   "execution_count": 13,
   "metadata": {},
   "outputs": [],
   "source": [
    "# config variables\n",
    "from azure.identity import DefaultAzureCredential\n",
    "\n",
    "credential=DefaultAzureCredential()\n",
    "resource_group_name = \"dantaylo_sdktest_rg3\"\n",
    "hub_name = \"dantaylo_sdktest_hub3\"\n",
    "project_name = \"dantaylo-sdktest-project3\"\n",
    "location = \"eastus\"\n",
    "subscription_id = \"597966d1-829f-417e-9950-8189061ec09c\"\n",
    "aiservices_resource_name = \"dantaylo-sdktest-aiservices4\"\n",
    "aisearch_resource_name = \"dantaylo-sdktest-aisearch3\"\n",
    "aisearch_index_name = \"dantaylo_aisearch_index\"\n",
    "azure_openai_chat_model = \"gpt-35-turbo\"\n",
    "azure_openai_embedding_model = \"text-embedding-ada-002\""
   ]
  },
  {
   "cell_type": "code",
   "execution_count": 4,
   "metadata": {},
   "outputs": [],
   "source": [
    "# Create a resource group\n",
    "from azure.mgmt.resource import ResourceManagementClient\n",
    "resource_client = ResourceManagementClient(credential, subscription_id)\n",
    "\n",
    "resource_group = resource_client.resource_groups.create_or_update(\n",
    "    resource_group_name, {\"location\": location}\n",
    ")"
   ]
  },
  {
   "cell_type": "code",
   "execution_count": 5,
   "metadata": {},
   "outputs": [
    {
     "name": "stderr",
     "output_type": "stream",
     "text": [
      "Class Hub: This is an experimental class, and may change at any time. Please see https://aka.ms/azuremlexperimental for more information.\n"
     ]
    },
    {
     "name": "stdout",
     "output_type": "stream",
     "text": [
      "Creating Hub, this will take a couple minutes...\n"
     ]
    },
    {
     "name": "stderr",
     "output_type": "stream",
     "text": [
      "The deployment request dantaylo_sdktest_hub3-3346709 was accepted. ARM deployment URI for reference: \n",
      "https://portal.azure.com//#blade/HubsExtension/DeploymentDetailsBlade/overview/id/%2Fsubscriptions%2F597966d1-829f-417e-9950-8189061ec09c%2FresourceGroups%2Fdantaylo_sdktest_rg3%2Fproviders%2FMicrosoft.Resources%2Fdeployments%2Fdantaylo_sdktest_hub3-3346709\n",
      "Creating Key Vault: (dantaylokeyvault4b831185  ) ..  Done (24s)\n",
      "Creating Storage Account: (dantaylostoragef66d8f3cd  )  Done (25s)\n",
      "Creating AzureML Workspace: (dantaylo_sdktest_hub3  ) ..  Done (17s)\n",
      "Total time : 44s\n",
      "\n",
      "The deployment request dantaylo-sdktest-project3-8832763 was accepted. ARM deployment URI for reference: \n",
      "https://portal.azure.com//#blade/HubsExtension/DeploymentDetailsBlade/overview/id/%2Fsubscriptions%2F597966d1-829f-417e-9950-8189061ec09c%2FresourceGroups%2Fdantaylo_sdktest_rg3%2Fproviders%2FMicrosoft.Resources%2Fdeployments%2Fdantaylo-sdktest-project3-8832763\n",
      "Creating AzureML Workspace: (dantaylo-sdktest-project3  ) .....  Done (34s)\n",
      "Total time : 35s\n",
      "\n"
     ]
    }
   ],
   "source": [
    "# Create an ML client\n",
    "from azure.ai.ml import MLClient\n",
    "from azure.identity import DefaultAzureCredential\n",
    "client = MLClient(workspace_name=\"\", \n",
    "    resource_group_name=resource_group_name, \n",
    "    subscription_id=subscription_id, \n",
    "    credential=credential)\n",
    "\n",
    "# Create a Hub\n",
    "from azure.ai.ml.entities import Hub\n",
    "hub_definition = Hub(name=hub_name, location=location)\n",
    "print(\"Creating Hub, this will take a couple minutes...\")\n",
    "created_hub = client.workspaces.begin_create(workspace=hub_definition).result()\n",
    "\n",
    "# Create a Project\n",
    "from azure.ai.ml.entities import Project\n",
    "project_definition = Project(name=project_name, hub_id=created_hub.id, location=location)\n",
    "created_project = client.workspaces.begin_create(workspace=project_definition).result()"
   ]
  },
  {
   "cell_type": "code",
   "execution_count": 14,
   "metadata": {},
   "outputs": [
    {
     "ename": "HttpResponseError",
     "evalue": "(BadRequest) Properties is required for this resouce.\nCode: BadRequest\nMessage: Properties is required for this resouce.",
     "output_type": "error",
     "traceback": [
      "\u001b[1;31m---------------------------------------------------------------------------\u001b[0m",
      "\u001b[1;31mHttpResponseError\u001b[0m                         Traceback (most recent call last)",
      "Cell \u001b[1;32mIn[14], line 11\u001b[0m\n\u001b[0;32m      5\u001b[0m \u001b[38;5;28;01mfrom\u001b[39;00m \u001b[38;5;21;01mazure\u001b[39;00m\u001b[38;5;21;01m.\u001b[39;00m\u001b[38;5;21;01mai\u001b[39;00m\u001b[38;5;21;01m.\u001b[39;00m\u001b[38;5;21;01mml\u001b[39;00m\u001b[38;5;21;01m.\u001b[39;00m\u001b[38;5;21;01mentities\u001b[39;00m \u001b[38;5;28;01mimport\u001b[39;00m AzureAIServicesConnection\n\u001b[0;32m      7\u001b[0m aiservices_client \u001b[38;5;241m=\u001b[39m CognitiveServicesManagementClient(\n\u001b[0;32m      8\u001b[0m     credential\u001b[38;5;241m=\u001b[39mDefaultAzureCredential(), subscription_id\u001b[38;5;241m=\u001b[39msubscription_id\n\u001b[0;32m      9\u001b[0m )\n\u001b[1;32m---> 11\u001b[0m aiservices_account \u001b[38;5;241m=\u001b[39m \u001b[43maiservices_client\u001b[49m\u001b[38;5;241;43m.\u001b[39;49m\u001b[43maccounts\u001b[49m\u001b[38;5;241;43m.\u001b[39;49m\u001b[43mbegin_create\u001b[49m\u001b[43m(\u001b[49m\n\u001b[0;32m     12\u001b[0m \u001b[43m    \u001b[49m\u001b[43mresource_group_name\u001b[49m\u001b[38;5;241;43m=\u001b[39;49m\u001b[43mresource_group_name\u001b[49m\u001b[43m,\u001b[49m\n\u001b[0;32m     13\u001b[0m \u001b[43m    \u001b[49m\u001b[43maccount_name\u001b[49m\u001b[38;5;241;43m=\u001b[39;49m\u001b[43maiservices_resource_name\u001b[49m\u001b[43m,\u001b[49m\n\u001b[0;32m     14\u001b[0m \u001b[43m    \u001b[49m\u001b[43maccount\u001b[49m\u001b[38;5;241;43m=\u001b[39;49m\u001b[43m{\u001b[49m\n\u001b[0;32m     15\u001b[0m \u001b[43m        \u001b[49m\u001b[38;5;124;43m\"\u001b[39;49m\u001b[38;5;124;43msku\u001b[39;49m\u001b[38;5;124;43m\"\u001b[39;49m\u001b[43m:\u001b[49m\u001b[43m \u001b[49m\u001b[43m{\u001b[49m\u001b[38;5;124;43m\"\u001b[39;49m\u001b[38;5;124;43mname\u001b[39;49m\u001b[38;5;124;43m\"\u001b[39;49m\u001b[43m:\u001b[49m\u001b[43m \u001b[49m\u001b[38;5;124;43m\"\u001b[39;49m\u001b[38;5;124;43mS0\u001b[39;49m\u001b[38;5;124;43m\"\u001b[39;49m\u001b[43m}\u001b[49m\u001b[43m,\u001b[49m\n\u001b[0;32m     16\u001b[0m \u001b[43m        \u001b[49m\u001b[38;5;124;43m\"\u001b[39;49m\u001b[38;5;124;43mkind\u001b[39;49m\u001b[38;5;124;43m\"\u001b[39;49m\u001b[43m:\u001b[49m\u001b[43m \u001b[49m\u001b[38;5;124;43m\"\u001b[39;49m\u001b[38;5;124;43mAIServices\u001b[39;49m\u001b[38;5;124;43m\"\u001b[39;49m\u001b[43m,\u001b[49m\n\u001b[0;32m     17\u001b[0m \u001b[43m        \u001b[49m\u001b[38;5;124;43m\"\u001b[39;49m\u001b[38;5;124;43mlocation\u001b[39;49m\u001b[38;5;124;43m\"\u001b[39;49m\u001b[43m:\u001b[49m\u001b[43m \u001b[49m\u001b[43mlocation\u001b[49m\u001b[43m,\u001b[49m\n\u001b[0;32m     18\u001b[0m \u001b[43m    \u001b[49m\u001b[43m}\u001b[49m\u001b[43m,\u001b[49m\n\u001b[0;32m     19\u001b[0m \u001b[43m)\u001b[49m\u001b[38;5;241m.\u001b[39mresult()\n",
      "File \u001b[1;32mc:\\dev\\aisdk_samples\\.venv\\Lib\\site-packages\\azure\\core\\tracing\\decorator.py:78\u001b[0m, in \u001b[0;36mdistributed_trace.<locals>.decorator.<locals>.wrapper_use_tracer\u001b[1;34m(*args, **kwargs)\u001b[0m\n\u001b[0;32m     76\u001b[0m span_impl_type \u001b[38;5;241m=\u001b[39m settings\u001b[38;5;241m.\u001b[39mtracing_implementation()\n\u001b[0;32m     77\u001b[0m \u001b[38;5;28;01mif\u001b[39;00m span_impl_type \u001b[38;5;129;01mis\u001b[39;00m \u001b[38;5;28;01mNone\u001b[39;00m:\n\u001b[1;32m---> 78\u001b[0m     \u001b[38;5;28;01mreturn\u001b[39;00m \u001b[43mfunc\u001b[49m\u001b[43m(\u001b[49m\u001b[38;5;241;43m*\u001b[39;49m\u001b[43margs\u001b[49m\u001b[43m,\u001b[49m\u001b[43m \u001b[49m\u001b[38;5;241;43m*\u001b[39;49m\u001b[38;5;241;43m*\u001b[39;49m\u001b[43mkwargs\u001b[49m\u001b[43m)\u001b[49m\n\u001b[0;32m     80\u001b[0m \u001b[38;5;66;03m# Merge span is parameter is set, but only if no explicit parent are passed\u001b[39;00m\n\u001b[0;32m     81\u001b[0m \u001b[38;5;28;01mif\u001b[39;00m merge_span \u001b[38;5;129;01mand\u001b[39;00m \u001b[38;5;129;01mnot\u001b[39;00m passed_in_parent:\n",
      "File \u001b[1;32mc:\\dev\\aisdk_samples\\.venv\\Lib\\site-packages\\azure\\mgmt\\cognitiveservices\\operations\\_accounts_operations.py:622\u001b[0m, in \u001b[0;36mAccountsOperations.begin_create\u001b[1;34m(self, resource_group_name, account_name, account, **kwargs)\u001b[0m\n\u001b[0;32m    620\u001b[0m cont_token: Optional[\u001b[38;5;28mstr\u001b[39m] \u001b[38;5;241m=\u001b[39m kwargs\u001b[38;5;241m.\u001b[39mpop(\u001b[38;5;124m\"\u001b[39m\u001b[38;5;124mcontinuation_token\u001b[39m\u001b[38;5;124m\"\u001b[39m, \u001b[38;5;28;01mNone\u001b[39;00m)\n\u001b[0;32m    621\u001b[0m \u001b[38;5;28;01mif\u001b[39;00m cont_token \u001b[38;5;129;01mis\u001b[39;00m \u001b[38;5;28;01mNone\u001b[39;00m:\n\u001b[1;32m--> 622\u001b[0m     raw_result \u001b[38;5;241m=\u001b[39m \u001b[38;5;28;43mself\u001b[39;49m\u001b[38;5;241;43m.\u001b[39;49m\u001b[43m_create_initial\u001b[49m\u001b[43m(\u001b[49m\n\u001b[0;32m    623\u001b[0m \u001b[43m        \u001b[49m\u001b[43mresource_group_name\u001b[49m\u001b[38;5;241;43m=\u001b[39;49m\u001b[43mresource_group_name\u001b[49m\u001b[43m,\u001b[49m\n\u001b[0;32m    624\u001b[0m \u001b[43m        \u001b[49m\u001b[43maccount_name\u001b[49m\u001b[38;5;241;43m=\u001b[39;49m\u001b[43maccount_name\u001b[49m\u001b[43m,\u001b[49m\n\u001b[0;32m    625\u001b[0m \u001b[43m        \u001b[49m\u001b[43maccount\u001b[49m\u001b[38;5;241;43m=\u001b[39;49m\u001b[43maccount\u001b[49m\u001b[43m,\u001b[49m\n\u001b[0;32m    626\u001b[0m \u001b[43m        \u001b[49m\u001b[43mapi_version\u001b[49m\u001b[38;5;241;43m=\u001b[39;49m\u001b[43mapi_version\u001b[49m\u001b[43m,\u001b[49m\n\u001b[0;32m    627\u001b[0m \u001b[43m        \u001b[49m\u001b[43mcontent_type\u001b[49m\u001b[38;5;241;43m=\u001b[39;49m\u001b[43mcontent_type\u001b[49m\u001b[43m,\u001b[49m\n\u001b[0;32m    628\u001b[0m \u001b[43m        \u001b[49m\u001b[38;5;28;43mcls\u001b[39;49m\u001b[38;5;241;43m=\u001b[39;49m\u001b[38;5;28;43;01mlambda\u001b[39;49;00m\u001b[43m \u001b[49m\u001b[43mx\u001b[49m\u001b[43m,\u001b[49m\u001b[43m \u001b[49m\u001b[43my\u001b[49m\u001b[43m,\u001b[49m\u001b[43m \u001b[49m\u001b[43mz\u001b[49m\u001b[43m:\u001b[49m\u001b[43m \u001b[49m\u001b[43mx\u001b[49m\u001b[43m,\u001b[49m\n\u001b[0;32m    629\u001b[0m \u001b[43m        \u001b[49m\u001b[43mheaders\u001b[49m\u001b[38;5;241;43m=\u001b[39;49m\u001b[43m_headers\u001b[49m\u001b[43m,\u001b[49m\n\u001b[0;32m    630\u001b[0m \u001b[43m        \u001b[49m\u001b[43mparams\u001b[49m\u001b[38;5;241;43m=\u001b[39;49m\u001b[43m_params\u001b[49m\u001b[43m,\u001b[49m\n\u001b[0;32m    631\u001b[0m \u001b[43m        \u001b[49m\u001b[38;5;241;43m*\u001b[39;49m\u001b[38;5;241;43m*\u001b[39;49m\u001b[43mkwargs\u001b[49m\n\u001b[0;32m    632\u001b[0m \u001b[43m    \u001b[49m\u001b[43m)\u001b[49m\n\u001b[0;32m    633\u001b[0m kwargs\u001b[38;5;241m.\u001b[39mpop(\u001b[38;5;124m\"\u001b[39m\u001b[38;5;124merror_map\u001b[39m\u001b[38;5;124m\"\u001b[39m, \u001b[38;5;28;01mNone\u001b[39;00m)\n\u001b[0;32m    635\u001b[0m \u001b[38;5;28;01mdef\u001b[39;00m \u001b[38;5;21mget_long_running_output\u001b[39m(pipeline_response):\n",
      "File \u001b[1;32mc:\\dev\\aisdk_samples\\.venv\\Lib\\site-packages\\azure\\mgmt\\cognitiveservices\\operations\\_accounts_operations.py:490\u001b[0m, in \u001b[0;36mAccountsOperations._create_initial\u001b[1;34m(self, resource_group_name, account_name, account, **kwargs)\u001b[0m\n\u001b[0;32m    488\u001b[0m     map_error(status_code\u001b[38;5;241m=\u001b[39mresponse\u001b[38;5;241m.\u001b[39mstatus_code, response\u001b[38;5;241m=\u001b[39mresponse, error_map\u001b[38;5;241m=\u001b[39merror_map)\n\u001b[0;32m    489\u001b[0m     error \u001b[38;5;241m=\u001b[39m \u001b[38;5;28mself\u001b[39m\u001b[38;5;241m.\u001b[39m_deserialize\u001b[38;5;241m.\u001b[39mfailsafe_deserialize(_models\u001b[38;5;241m.\u001b[39mErrorResponse, pipeline_response)\n\u001b[1;32m--> 490\u001b[0m     \u001b[38;5;28;01mraise\u001b[39;00m HttpResponseError(response\u001b[38;5;241m=\u001b[39mresponse, model\u001b[38;5;241m=\u001b[39merror, error_format\u001b[38;5;241m=\u001b[39mARMErrorFormat)\n\u001b[0;32m    492\u001b[0m \u001b[38;5;28;01mif\u001b[39;00m response\u001b[38;5;241m.\u001b[39mstatus_code \u001b[38;5;241m==\u001b[39m \u001b[38;5;241m200\u001b[39m:\n\u001b[0;32m    493\u001b[0m     deserialized \u001b[38;5;241m=\u001b[39m \u001b[38;5;28mself\u001b[39m\u001b[38;5;241m.\u001b[39m_deserialize(\u001b[38;5;124m\"\u001b[39m\u001b[38;5;124mAccount\u001b[39m\u001b[38;5;124m\"\u001b[39m, pipeline_response)\n",
      "\u001b[1;31mHttpResponseError\u001b[0m: (BadRequest) Properties is required for this resouce.\nCode: BadRequest\nMessage: Properties is required for this resouce."
     ]
    }
   ],
   "source": [
    "# Create AI Services resource, this may take a few minutes\n",
    "\n",
    "from azure.mgmt.cognitiveservices import CognitiveServicesManagementClient\n",
    "from azure.ai.ml import MLClient\n",
    "from azure.ai.ml.entities import AzureAIServicesConnection\n",
    "\n",
    "aiservices_client = CognitiveServicesManagementClient(\n",
    "    credential=DefaultAzureCredential(), subscription_id=subscription_id\n",
    ")\n",
    "\n",
    "aiservices_account = aiservices_client.accounts.begin_create(\n",
    "    resource_group_name=resource_group_name,\n",
    "    account_name=aiservices_resource_name,\n",
    "    account={\n",
    "        \"sku\": {\"name\": \"S0\"},\n",
    "        \"kind\": \"AIServices\",\n",
    "        \"location\": location,\n",
    "    },\n",
    ").result()\n"
   ]
  },
  {
   "cell_type": "code",
   "execution_count": null,
   "metadata": {},
   "outputs": [],
   "source": [
    "# Create a connection to the hub, this will create two connections:\n",
    "#  - An Azure OpenAI Connection (for using the Azure OpenAI service and models)\n",
    "#  - An AI Services Connection (for using all other AI Services)\n",
    "\n",
    "aiservices_key = aiservices_client.accounts.list_keys(\n",
    "    resource_group_name=resource_group_name,\n",
    "    account_name=aiservices_resource_name,\n",
    ").key1\n",
    "\n",
    "aiservices_endpoint = aiservices_client.accounts.get(\n",
    "    resource_group_name=resource_group_name,\n",
    "    account_name=aiservices_resource_name\n",
    ").properties.endpoint\n",
    "\n",
    "resource_id=f\"/subscriptions/{subscription_id}/resourceGroups/{resource_group_name}/providers/Microsoft.CognitiveServices/accounts/{aiservices_resource_name}\"\n",
    "aiservices_connection = AzureAIServicesConnection(\n",
    "    name=\"azure_aiservices_connection\",\n",
    "    api_key=aiservices_key,\n",
    "    target=aiservices_endpoint,\n",
    "    ai_services_resource_id=resource_id)\n",
    "\n",
    "ml_client = MLClient(workspace_name=hub_name, \n",
    "    resource_group_name=resource_group_name, \n",
    "    subscription_id=subscription_id, \n",
    "    credential=credential)\n",
    "\n",
    "result = ml_client.connections.create_or_update(connection=aiservices_connection)"
   ]
  },
  {
   "cell_type": "code",
   "execution_count": null,
   "metadata": {},
   "outputs": [],
   "source": [
    "# Create model deployments\n",
    "from azure.mgmt.cognitiveservices import CognitiveServicesManagementClient\n",
    "\n",
    "client = CognitiveServicesManagementClient(\n",
    "    credential=credential,\n",
    "    subscription_id=subscription_id,\n",
    ")\n",
    "\n",
    "deployment = client.deployments.begin_create_or_update(\n",
    "    resource_group_name=resource_group_name,\n",
    "    deployment_name=azure_openai_chat_model,\n",
    "    account_name=aiservices_resource_name,\n",
    "    deployment={\n",
    "        \"properties\": {\n",
    "            \"model\": {\n",
    "                \"format\": \"OpenAI\",\n",
    "                \"name\": azure_openai_chat_model,\n",
    "                \"version\": \"0301\",\n",
    "            }\n",
    "        },\n",
    "        \"sku\": {\"capacity\": 50, \"name\": \"Standard\"},\n",
    "    },\n",
    ").result()\n",
    "\n",
    "deployment = client.deployments.begin_create_or_update(\n",
    "    resource_group_name=resource_group_name,\n",
    "    deployment_name=azure_openai_embedding_model,\n",
    "    account_name=aiservices_resource_name,\n",
    "    deployment={\n",
    "        \"properties\": {\n",
    "            \"model\": {\n",
    "                \"format\": \"OpenAI\",\n",
    "                \"name\": azure_openai_embedding_model,\n",
    "                \"version\": \"2\",\n",
    "            }\n",
    "        },\n",
    "        \"sku\": {\"capacity\": 50, \"name\": \"Standard\"},\n",
    "    },\n",
    ").result()"
   ]
  },
  {
   "cell_type": "code",
   "execution_count": null,
   "metadata": {},
   "outputs": [],
   "source": [
    "# Create AIServices Resource\n",
    "from azure.mgmt.search import SearchManagementClient\n",
    "from azure.ai.ml import MLClient, ApiKeyConfiguration, AzureAISearchConnection\n",
    "\n",
    "# Create AI Search resource\n",
    "search_client = SearchManagementClient(\n",
    "    credential=credential, subscription_id=subscription_id\n",
    ")\n",
    "\n",
    "search = search_client.services.begin_create_or_update(\n",
    "    resource_group_name=resource_group_name,\n",
    "    search_service_name=aisearch_resource_name,\n",
    "    service={\n",
    "        \"location\": location,\n",
    "        \"sku\": {\"name\": \"standard\"},\n",
    "        # \"properties\": {\"hostingMode\": \"default\", \"partitionCount\": 1, \"replicaCount\": 3},\n",
    "    },\n",
    ").result()\n",
    "\n",
    "# create connection to the hub\n",
    "aisearch_key = search_client.admin_keys.get(resource_group_name, aisearch_resource_name).primary_key\n",
    "aisearch_endpoint = f\"https://{aisearch_resource_name}.search.windows.net\"\n",
    "\n",
    "aisearch_connection = AzureAISearchConnection(\n",
    "    name=\"azure_aisearch_connection\",\n",
    "    endpoint=aisearch_endpoint,\n",
    "    credentials=ApiKeyConfiguration(key=aisearch_key),\n",
    ")\n",
    "\n",
    "# Create an ML client\n",
    "ml_client = MLClient(workspace_name=hub_name, \n",
    "    resource_group_name=resource_group_name, \n",
    "    subscription_id=subscription_id, \n",
    "    credential=credential)\n",
    "\n",
    "ml_client.connections.create_or_update(aisearch_connection)"
   ]
  }
 ],
 "metadata": {
  "kernelspec": {
   "display_name": ".venv",
   "language": "python",
   "name": "python3"
  },
  "language_info": {
   "codemirror_mode": {
    "name": "ipython",
    "version": 3
   },
   "file_extension": ".py",
   "mimetype": "text/x-python",
   "name": "python",
   "nbconvert_exporter": "python",
   "pygments_lexer": "ipython3",
   "version": "3.12.3"
  }
 },
 "nbformat": 4,
 "nbformat_minor": 2
}
